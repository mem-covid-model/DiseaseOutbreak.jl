{
 "cells": [
  {
   "cell_type": "markdown",
   "metadata": {},
   "source": [
    "# Notes on using the SIR-X model using DiseaseOutbreak.jl\n",
    "\n",
    "First install Julia from [Julia website](https://julialang.org/downloads).\n",
    "\n",
    "We are assuming you have Jupyter already installed, and you need to add the Julia kernel.  Follow the instructions in the [IJulia website](https://github.com/JuliaLang/IJulia.jl).\n",
    "\n",
    "Next install the DiseaseOutbreak package.  It is not officially registered, so you install it directly from the website."
   ]
  },
  {
   "cell_type": "code",
   "execution_count": null,
   "metadata": {},
   "outputs": [],
   "source": [
    "using Pkg\n",
    "Pkg.add(PackageSpec(url=\"https://github.com/senresearch/DiseaseOutbreak.jl\"))"
   ]
  },
  {
   "cell_type": "markdown",
   "metadata": {},
   "source": [
    "You load the package by doing this (it might take a little time)."
   ]
  },
  {
   "cell_type": "code",
   "execution_count": null,
   "metadata": {},
   "outputs": [],
   "source": [
    "using DiseaseOutbreak"
   ]
  },
  {
   "cell_type": "markdown",
   "metadata": {},
   "source": [
    "Load the CSV package for reading in CSV files."
   ]
  },
  {
   "cell_type": "code",
   "execution_count": null,
   "metadata": {},
   "outputs": [],
   "source": [
    "using CSV"
   ]
  },
  {
   "cell_type": "markdown",
   "metadata": {},
   "source": [
    "Load text file with case counts from Hubei."
   ]
  },
  {
   "cell_type": "code",
   "execution_count": null,
   "metadata": {},
   "outputs": [],
   "source": [
    "# Hubei file name\n",
    "hubeiFile = joinpath(@__DIR__, \"..\", \"data\",\n",
    "     \"covid19_china\",\"time_series_covid19_confirmed_hubei.csv\")\n",
    "# read file into data frame\n",
    "hubei = CSV.read(hubeiFile)"
   ]
  },
  {
   "cell_type": "code",
   "execution_count": null,
   "metadata": {},
   "outputs": [],
   "source": [
    "# population of Hubei\n",
    "hubeiPop = 57.0e6"
   ]
  },
  {
   "cell_type": "markdown",
   "metadata": {},
   "source": [
    "Julia is type sensitive; since the data are counts, we have to convert them to a floating point vector.  We take 22 points, which are the points considered in the paper."
   ]
  },
  {
   "cell_type": "code",
   "execution_count": null,
   "metadata": {},
   "outputs": [],
   "source": [
    "# convert to floating point -- right way\n",
    "# hubeiC = convert(Vector{Float64},hubei.ConfirmedCases[1:22])\n",
    "hubeiC = 1.0*hubei.ConfirmedCases[1:22]"
   ]
  },
  {
   "cell_type": "markdown",
   "metadata": {},
   "source": [
    "Next we fit the SIRX model to the case number series.\n",
    "\n",
    "- time series length: 22\n",
    "- case number series: hubeiC\n",
    "- population size: hubeiPop\n",
    "- R0Free: 6.2\n",
    "- TInfected: 8\n",
    "- initial values of parameters [κ,κ0,IXRatio]; all should be positive"
   ]
  },
  {
   "cell_type": "code",
   "execution_count": null,
   "metadata": {},
   "outputs": [],
   "source": [
    "hubeiFit = fitCaseModel(22,hubeiC,hubeiPop,6.2,8.0,[0.1,0.1,2.0]);"
   ]
  },
  {
   "cell_type": "markdown",
   "metadata": {},
   "source": [
    "Let us get a summary of the estimates."
   ]
  },
  {
   "cell_type": "code",
   "execution_count": null,
   "metadata": {},
   "outputs": [],
   "source": [
    "summary(hubeiFit)"
   ]
  },
  {
   "cell_type": "markdown",
   "metadata": {},
   "source": [
    "Plot the case series along with the fitted curve.  We extend the prediction to 40 days; we had data for 22 days."
   ]
  },
  {
   "cell_type": "code",
   "execution_count": null,
   "metadata": {},
   "outputs": [],
   "source": [
    "plotfit(hubeiFit,40)"
   ]
  },
  {
   "cell_type": "markdown",
   "metadata": {},
   "source": [
    "Now we can analyze Shandong."
   ]
  },
  {
   "cell_type": "code",
   "execution_count": null,
   "metadata": {},
   "outputs": [],
   "source": [
    "# File name (full path)\n",
    "shandongFile = joinpath(@__DIR__, \"..\", \"data\",\n",
    "          \"covid19_china\",\"time_series_covid19_confirmed_shandong.csv\")\n",
    "# read case counts\n",
    "shandong = CSV.read(shandongFile)\n",
    "# population\n",
    "shandongPop = 94.2e6\n",
    "\n",
    "# Convert case counts\n",
    "shandongC = 1.0*shandong.ConfirmedCases[1:30]\n",
    "shandongFit = fitCaseModel(30,shandongC,shandongPop,\n",
    "                           6.2,8.0,[0.5,0.045,15.0])"
   ]
  },
  {
   "cell_type": "code",
   "execution_count": null,
   "metadata": {},
   "outputs": [],
   "source": [
    "summary(shandongFit)"
   ]
  },
  {
   "cell_type": "code",
   "execution_count": null,
   "metadata": {},
   "outputs": [],
   "source": [
    "plotfit(shandongFit,40)"
   ]
  },
  {
   "cell_type": "code",
   "execution_count": null,
   "metadata": {},
   "outputs": [],
   "source": [
    "plot!(estimatedStates(30,shandongPop,shandongC[1],9.66,\n",
    "                getParams(0.309,0.042,6.2,8.0,SIRX()))[:X],\n",
    "                yaxis=:log,label=\"paper\")\n",
    "\n",
    "fitted(shandongFit,40)"
   ]
  }
 ],
 "metadata": {
  "kernelspec": {
   "display_name": "Julia 1.4.0",
   "language": "julia",
   "name": "julia-1.4"
  },
  "language_info": {
   "file_extension": ".jl",
   "mimetype": "application/julia",
   "name": "julia",
   "version": "1.4.0"
  }
 },
 "nbformat": 4,
 "nbformat_minor": 2
}
